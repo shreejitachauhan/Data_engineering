{
  "nbformat": 4,
  "nbformat_minor": 0,
  "metadata": {
    "colab": {
      "provenance": [],
      "authorship_tag": "ABX9TyNnEdqN37OWdkg3yESzFaW1",
      "include_colab_link": true
    },
    "kernelspec": {
      "name": "python3",
      "display_name": "Python 3"
    },
    "language_info": {
      "name": "python"
    }
  },
  "cells": [
    {
      "cell_type": "markdown",
      "metadata": {
        "id": "view-in-github",
        "colab_type": "text"
      },
      "source": [
        "<a href=\"https://colab.research.google.com/github/shreejitachauhan/Data_engineering/blob/feature%2Fddlscripts/data_engineering.ipynb\" target=\"_parent\"><img src=\"https://colab.research.google.com/assets/colab-badge.svg\" alt=\"Open In Colab\"/></a>"
      ]
    },
    {
      "cell_type": "code",
      "execution_count": 2,
      "metadata": {
        "id": "AgmUy1cDJbEW",
        "colab": {
          "base_uri": "https://localhost:8080/"
        },
        "collapsed": true,
        "outputId": "6c99a191-0b37-4cb7-8a46-62f468d25c0a"
      },
      "outputs": [
        {
          "output_type": "stream",
          "name": "stdout",
          "text": [
            "Collecting snowflake-connector-python\n",
            "  Downloading snowflake_connector_python-3.16.0-cp311-cp311-manylinux_2_17_x86_64.manylinux2014_x86_64.whl.metadata (71 kB)\n",
            "\u001b[2K     \u001b[90m━━━━━━━━━━━━━━━━━━━━━━━━━━━━━━━━━━━━━━━\u001b[0m \u001b[32m71.8/71.8 kB\u001b[0m \u001b[31m515.0 kB/s\u001b[0m eta \u001b[36m0:00:00\u001b[0m\n",
            "\u001b[?25hCollecting asn1crypto<2.0.0,>0.24.0 (from snowflake-connector-python)\n",
            "  Downloading asn1crypto-1.5.1-py2.py3-none-any.whl.metadata (13 kB)\n",
            "Collecting boto3>=1.24 (from snowflake-connector-python)\n",
            "  Downloading boto3-1.39.4-py3-none-any.whl.metadata (6.6 kB)\n",
            "Collecting botocore>=1.24 (from snowflake-connector-python)\n",
            "  Downloading botocore-1.39.4-py3-none-any.whl.metadata (5.7 kB)\n",
            "Requirement already satisfied: cffi<2.0.0,>=1.9 in /usr/local/lib/python3.11/dist-packages (from snowflake-connector-python) (1.17.1)\n",
            "Requirement already satisfied: cryptography>=3.1.0 in /usr/local/lib/python3.11/dist-packages (from snowflake-connector-python) (43.0.3)\n",
            "Requirement already satisfied: pyOpenSSL<26.0.0,>=22.0.0 in /usr/local/lib/python3.11/dist-packages (from snowflake-connector-python) (24.2.1)\n",
            "Requirement already satisfied: pyjwt<3.0.0 in /usr/local/lib/python3.11/dist-packages (from snowflake-connector-python) (2.10.1)\n",
            "Requirement already satisfied: pytz in /usr/local/lib/python3.11/dist-packages (from snowflake-connector-python) (2025.2)\n",
            "Requirement already satisfied: requests<3.0.0 in /usr/local/lib/python3.11/dist-packages (from snowflake-connector-python) (2.32.3)\n",
            "Requirement already satisfied: packaging in /usr/local/lib/python3.11/dist-packages (from snowflake-connector-python) (24.2)\n",
            "Requirement already satisfied: charset_normalizer<4,>=2 in /usr/local/lib/python3.11/dist-packages (from snowflake-connector-python) (3.4.2)\n",
            "Requirement already satisfied: idna<4,>=2.5 in /usr/local/lib/python3.11/dist-packages (from snowflake-connector-python) (3.10)\n",
            "Requirement already satisfied: certifi>=2017.4.17 in /usr/local/lib/python3.11/dist-packages (from snowflake-connector-python) (2025.7.9)\n",
            "Requirement already satisfied: typing_extensions<5,>=4.3 in /usr/local/lib/python3.11/dist-packages (from snowflake-connector-python) (4.14.1)\n",
            "Requirement already satisfied: filelock<4,>=3.5 in /usr/local/lib/python3.11/dist-packages (from snowflake-connector-python) (3.18.0)\n",
            "Requirement already satisfied: sortedcontainers>=2.4.0 in /usr/local/lib/python3.11/dist-packages (from snowflake-connector-python) (2.4.0)\n",
            "Requirement already satisfied: platformdirs<5.0.0,>=2.6.0 in /usr/local/lib/python3.11/dist-packages (from snowflake-connector-python) (4.3.8)\n",
            "Requirement already satisfied: tomlkit in /usr/local/lib/python3.11/dist-packages (from snowflake-connector-python) (0.13.3)\n",
            "Collecting jmespath<2.0.0,>=0.7.1 (from boto3>=1.24->snowflake-connector-python)\n",
            "  Downloading jmespath-1.0.1-py3-none-any.whl.metadata (7.6 kB)\n",
            "Collecting s3transfer<0.14.0,>=0.13.0 (from boto3>=1.24->snowflake-connector-python)\n",
            "  Downloading s3transfer-0.13.0-py3-none-any.whl.metadata (1.7 kB)\n",
            "Requirement already satisfied: python-dateutil<3.0.0,>=2.1 in /usr/local/lib/python3.11/dist-packages (from botocore>=1.24->snowflake-connector-python) (2.9.0.post0)\n",
            "Requirement already satisfied: urllib3!=2.2.0,<3,>=1.25.4 in /usr/local/lib/python3.11/dist-packages (from botocore>=1.24->snowflake-connector-python) (2.4.0)\n",
            "Requirement already satisfied: pycparser in /usr/local/lib/python3.11/dist-packages (from cffi<2.0.0,>=1.9->snowflake-connector-python) (2.22)\n",
            "Requirement already satisfied: six>=1.5 in /usr/local/lib/python3.11/dist-packages (from python-dateutil<3.0.0,>=2.1->botocore>=1.24->snowflake-connector-python) (1.17.0)\n",
            "Downloading snowflake_connector_python-3.16.0-cp311-cp311-manylinux_2_17_x86_64.manylinux2014_x86_64.whl (2.7 MB)\n",
            "\u001b[2K   \u001b[90m━━━━━━━━━━━━━━━━━━━━━━━━━━━━━━━━━━━━━━━━\u001b[0m \u001b[32m2.7/2.7 MB\u001b[0m \u001b[31m8.7 MB/s\u001b[0m eta \u001b[36m0:00:00\u001b[0m\n",
            "\u001b[?25hDownloading asn1crypto-1.5.1-py2.py3-none-any.whl (105 kB)\n",
            "\u001b[2K   \u001b[90m━━━━━━━━━━━━━━━━━━━━━━━━━━━━━━━━━━━━━━━━\u001b[0m \u001b[32m105.0/105.0 kB\u001b[0m \u001b[31m9.9 MB/s\u001b[0m eta \u001b[36m0:00:00\u001b[0m\n",
            "\u001b[?25hDownloading boto3-1.39.4-py3-none-any.whl (139 kB)\n",
            "\u001b[2K   \u001b[90m━━━━━━━━━━━━━━━━━━━━━━━━━━━━━━━━━━━━━━━━\u001b[0m \u001b[32m139.9/139.9 kB\u001b[0m \u001b[31m11.8 MB/s\u001b[0m eta \u001b[36m0:00:00\u001b[0m\n",
            "\u001b[?25hDownloading botocore-1.39.4-py3-none-any.whl (13.8 MB)\n",
            "\u001b[2K   \u001b[90m━━━━━━━━━━━━━━━━━━━━━━━━━━━━━━━━━━━━━━━━\u001b[0m \u001b[32m13.8/13.8 MB\u001b[0m \u001b[31m48.1 MB/s\u001b[0m eta \u001b[36m0:00:00\u001b[0m\n",
            "\u001b[?25hDownloading jmespath-1.0.1-py3-none-any.whl (20 kB)\n",
            "Downloading s3transfer-0.13.0-py3-none-any.whl (85 kB)\n",
            "\u001b[2K   \u001b[90m━━━━━━━━━━━━━━━━━━━━━━━━━━━━━━━━━━━━━━━━\u001b[0m \u001b[32m85.2/85.2 kB\u001b[0m \u001b[31m6.5 MB/s\u001b[0m eta \u001b[36m0:00:00\u001b[0m\n",
            "\u001b[?25hInstalling collected packages: asn1crypto, jmespath, botocore, s3transfer, boto3, snowflake-connector-python\n",
            "Successfully installed asn1crypto-1.5.1 boto3-1.39.4 botocore-1.39.4 jmespath-1.0.1 s3transfer-0.13.0 snowflake-connector-python-3.16.0\n"
          ]
        }
      ],
      "source": [
        "!pip install snowflake-connector-python\n"
      ]
    },
    {
      "cell_type": "code",
      "source": [
        "import snowflake.connector\n",
        "import getpass\n",
        "\n",
        "password = getpass.getpass(\"Enter Snowflake password: \")\n",
        "\n",
        "conn = snowflake.connector.connect(\n",
        "  user = \"SHREEJITACHAUHAN\",\n",
        "  password = password,\n",
        "  account = \"FHTJQHV-WW96608\",\n",
        "  role = \"ACCOUNTADMIN\",\n",
        "  warehouse = \"<none selected>\",\n",
        "  database = \"DATASET\",\n",
        "  schema = \"SALES\"\n",
        ")\n",
        "\n",
        "cursor = conn.cursor()\n",
        "\n",
        "create_schema = cursor.execute(\"CREATE OR REPLACE SCHEMA dataset.sales;\")\n",
        "\n",
        "create_dim_date = cursor.execute(\"\"\"\n",
        "CREATE OR REPLACE TABLE Dim_Date (\n",
        "    Date_ID INT PRIMARY KEY,\n",
        "    DAY INT,\n",
        "    MONTH INT,\n",
        "    YEAR INT\n",
        ");\n",
        "\"\"\")\n",
        "\n",
        "create_dim_branch = cursor.execute(\"\"\"\n",
        "CREATE OR REPLACE TABLE Dim_Branch (\n",
        "    Branch_ID INT PRIMARY KEY,\n",
        "    BRANCH_NAME STRING\n",
        ");\n",
        "\"\"\")\n",
        "\n",
        "create_dim_dealer = cursor.execute(\"\"\"\n",
        "CREATE OR REPLACE TABLE Dim_Dealer (\n",
        "    Dealer_ID INT PRIMARY KEY,\n",
        "    DEALER_NAME STRING\n",
        ");\n",
        "\"\"\")\n",
        "\n",
        "create_dim_product = cursor.execute(\"\"\"\n",
        "CREATE OR REPLACE TABLE Dim_Product (\n",
        "    Model_ID INT PRIMARY KEY,\n",
        "    PRODUCT_NAME STRING\n",
        ");\n",
        "\"\"\")\n",
        "\n",
        "create_fact_sales = cursor.execute(\"\"\"\n",
        "CREATE OR REPLACE TABLE Fact_Sales (\n",
        "    Date_ID INT,\n",
        "    Branch_ID INT,\n",
        "    Dealer_ID INT,\n",
        "    Model_ID INT,\n",
        "    Revenue INT,\n",
        "    Units_Sold INT,\n",
        "    FOREIGN KEY (Date_ID) REFERENCES Dim_Date(Date_ID),\n",
        "    FOREIGN KEY (Branch_ID) REFERENCES Dim_Branch(Branch_ID),\n",
        "    FOREIGN KEY (Dealer_ID) REFERENCES Dim_Dealer(Dealer_ID),\n",
        "    FOREIGN KEY (Model_ID) REFERENCES Dim_Product(Model_ID)\n",
        ");\n",
        "\"\"\")\n",
        "\n",
        "csv_file_path = '/Users/shreejitachauhan/Desktop/SalesData.csv'\n",
        "\n",
        "create_stage=cursor.execute('CREATE OR REPLACE STAGE sales_data_stage;')\n",
        "\n",
        "staging_table_sql = cursor.execute(\"\"\"\n",
        "CREATE OR REPLACE TABLE Staging_Sales_Raw (\n",
        "    Branch_ID STRING,\n",
        "    Dealer_ID STRING,\n",
        "    Model_ID STRING,\n",
        "    Revenue INT,\n",
        "    Units_Sold INT,\n",
        "    Date_ID STRING,\n",
        "    Day INT,\n",
        "    Month INT,\n",
        "    Year INT,\n",
        "    BranchName STRING,\n",
        "    DealerName STRING,\n",
        "    Product_Name STRING,\n",
        "    Created_TIME TIMESTAMP DEFAULT CURRENT_TIMESTAMP,\n",
        "    Updated_TIME TIMESTAMP,\n",
        ");\n",
        "\"\"\")\n",
        "\n"
      ],
      "metadata": {
        "colab": {
          "base_uri": "https://localhost:8080/"
        },
        "id": "trCJsqLyVPCx",
        "outputId": "313924a7-2bf6-4c67-e4b0-ec41721e2a71"
      },
      "execution_count": 3,
      "outputs": [
        {
          "name": "stdout",
          "output_type": "stream",
          "text": [
            "Enter Snowflake password: ··········\n"
          ]
        }
      ]
    },
    {
      "cell_type": "code",
      "source": [],
      "metadata": {
        "id": "kQ6_RiMMtGVD"
      },
      "execution_count": 7,
      "outputs": []
    },
    {
      "cell_type": "code",
      "source": [],
      "metadata": {
        "id": "AswkCcpdtGMO"
      },
      "execution_count": 7,
      "outputs": []
    },
    {
      "cell_type": "code",
      "source": [],
      "metadata": {
        "id": "sdvRLbJWtF_a"
      },
      "execution_count": 7,
      "outputs": []
    }
  ]
}